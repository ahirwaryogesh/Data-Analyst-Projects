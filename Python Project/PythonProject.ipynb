{
 "cells": [
  {
   "cell_type": "code",
   "execution_count": 3,
   "id": "f6ac23c0-334a-4775-b30c-13d8e3c4a77a",
   "metadata": {},
   "outputs": [],
   "source": [
    "## Task 1: A customer has a budget of 350,000 PLN and wants an EV with a minimum range of 400 km\n",
    "\n",
    "import pandas as pd"
   ]
  },
  {
   "cell_type": "code",
   "execution_count": 4,
   "id": "603abe00-2761-4d5d-986f-927e838a4322",
   "metadata": {},
   "outputs": [],
   "source": [
    "df = pd.read_excel(\"FEV_Data.xlsx\", sheet_name=\"Auta elektryczne\")"
   ]
  },
  {
   "cell_type": "code",
   "execution_count": 5,
   "id": "02021f28-7e09-4b82-b8f6-7e178811b3fa",
   "metadata": {},
   "outputs": [],
   "source": [
    "filtered_evs = df[\n",
    "    (df[\"Minimal price (gross) [PLN]\"] <= 350000) &\n",
    "    (df[\"Range (WLTP) [km]\"] >= 400)]"
   ]
  },
  {
   "cell_type": "code",
   "execution_count": 6,
   "id": "d352de7d-8fa8-440b-9600-93f0ed3dc1f5",
   "metadata": {},
   "outputs": [
    {
     "name": "stdout",
     "output_type": "stream",
     "text": [
      "                        Car full name  Minimal price (gross) [PLN]  \\\n",
      "40           Tesla Model 3 Long Range                       235490   \n",
      "41          Tesla Model 3 Performance                       260490   \n",
      "48              Volkswagen ID.3 Pro S                       179990   \n",
      "49                Volkswagen ID.4 1st                       202390   \n",
      "8                             BMW iX3                       282900   \n",
      "18                   Kia e-Niro 64kWh                       167990   \n",
      "20                   Kia e-Soul 64kWh                       160990   \n",
      "15        Hyundai Kona electric 64kWh                       178400   \n",
      "0              Audi e-tron 55 quattro                       345700   \n",
      "39  Tesla Model 3 Standard Range Plus                       195490   \n",
      "47    Volkswagen ID.3 Pro Performance                       155890   \n",
      "22                  Mercedes-Benz EQC                       334700   \n",
      "\n",
      "    Range (WLTP) [km]  Battery capacity [kWh]  \n",
      "40                580                    75.0  \n",
      "41                567                    75.0  \n",
      "48                549                    77.0  \n",
      "49                500                    77.0  \n",
      "8                 460                    80.0  \n",
      "18                455                    64.0  \n",
      "20                452                    64.0  \n",
      "15                449                    64.0  \n",
      "0                 438                    95.0  \n",
      "39                430                    54.0  \n",
      "47                425                    58.0  \n",
      "22                414                    80.0  \n"
     ]
    }
   ],
   "source": [
    "result = filtered_evs[[\n",
    "    \"Car full name\",\n",
    "    \"Minimal price (gross) [PLN]\",\n",
    "    \"Range (WLTP) [km]\",\n",
    "    \"Battery capacity [kWh]\"\n",
    "]].sort_values(by=\"Range (WLTP) [km]\", ascending=False)\n",
    "print(result)\n"
   ]
  },
  {
   "cell_type": "code",
   "execution_count": 7,
   "id": "3d5e51a7-786b-4a2e-834e-698863d161c9",
   "metadata": {},
   "outputs": [],
   "source": [
    "## Task 2: You suspect some EVs have unusually high or low energy consumption. \n",
    "##Find the  outliers in the mean- Energy consumption [kWh/100 km] column.\n",
    "import pandas as pd"
   ]
  },
  {
   "cell_type": "code",
   "execution_count": 8,
   "id": "d335fc7e-39d6-407b-9c4c-1e3df713e199",
   "metadata": {},
   "outputs": [
    {
     "name": "stdout",
     "output_type": "stream",
     "text": [
      "['Car full name', 'Make', 'Model', 'Minimal price (gross) [PLN]', 'Engine power [KM]', 'Maximum torque [Nm]', 'Type of brakes', 'Drive type', 'Battery capacity [kWh]', 'Range (WLTP) [km]', 'Wheelbase [cm]', 'Length [cm]', 'Width [cm]', 'Height [cm]', 'Minimal empty weight [kg]', 'Permissable gross weight [kg]', 'Maximum load capacity [kg]', 'Number of seats', 'Number of doors', 'Tire size [in]', 'Maximum speed [kph]', 'Boot capacity (VDA) [l]', 'Acceleration 0-100 kph [s]', 'Maximum DC charging power [kW]', 'mean - Energy consumption [kWh/100 km]']\n"
     ]
    }
   ],
   "source": [
    "df = pd.read_excel('FEV_Data.xlsx')\n",
    "df.columns = df.columns.str.strip()\n",
    "print(df.columns.tolist())"
   ]
  },
  {
   "cell_type": "code",
   "execution_count": 9,
   "id": "34c9187a-1d3b-4d4a-bbf6-68ff10030d25",
   "metadata": {},
   "outputs": [],
   "source": [
    "column = 'mean - Energy consumption [kWh/100 km]'"
   ]
  },
  {
   "cell_type": "code",
   "execution_count": 10,
   "id": "5bb43fb7-2542-4227-b59c-c0e680dfd757",
   "metadata": {},
   "outputs": [],
   "source": [
    "df_Clean = df.dropna(subset=[column])"
   ]
  },
  {
   "cell_type": "code",
   "execution_count": 11,
   "id": "9830bacf-6152-4200-a556-c3189fb755d1",
   "metadata": {},
   "outputs": [],
   "source": [
    "Q1=df_Clean[column].quantile(0.25)\n",
    "Q3=df_Clean[column].quantile(0.75)\n",
    "IQR = Q3-Q1"
   ]
  },
  {
   "cell_type": "code",
   "execution_count": 12,
   "id": "9227a0aa-af8e-4aa9-af77-5ca113c5bc63",
   "metadata": {},
   "outputs": [],
   "source": [
    "lower_bound = Q1 - 1.5*IQR\n",
    "upper_bound = Q3 + 1.5*IQR"
   ]
  },
  {
   "cell_type": "code",
   "execution_count": 13,
   "id": "04e48fe9-253d-4227-977a-416b50af8507",
   "metadata": {},
   "outputs": [],
   "source": [
    "outliers= df_Clean[(df_Clean[column] < lower_bound) | (df_Clean[column] > upper_bound)]"
   ]
  },
  {
   "cell_type": "code",
   "execution_count": 14,
   "id": "67a8c3da-48d8-463c-aef9-b33ad9834059",
   "metadata": {},
   "outputs": [
    {
     "name": "stdout",
     "output_type": "stream",
     "text": [
      "Outliers in Energy Consumption:\n",
      "Empty DataFrame\n",
      "Columns: [Make, Model, mean - Energy consumption [kWh/100 km]]\n",
      "Index: []\n"
     ]
    }
   ],
   "source": [
    "print(\"Outliers in Energy Consumption:\")\n",
    "print(outliers[['Make','Model',column]])"
   ]
  },
  {
   "cell_type": "code",
   "execution_count": 15,
   "id": "08e01365-cf10-44d5-9c81-a2f6872449c1",
   "metadata": {},
   "outputs": [],
   "source": [
    "##Task 3: Your manager wants to know if there's a strong relationship between battery capacity and range.\n",
    "## Create a suitable plot to visualize.,Highlight any insights\n",
    "import pandas as pd\n",
    "import matplotlib.pyplot as plt \n",
    "import seaborn as sns"
   ]
  },
  {
   "cell_type": "code",
   "execution_count": 16,
   "id": "82b79bb8-73e4-4157-aaaf-d27d5a800707",
   "metadata": {},
   "outputs": [],
   "source": [
    "df = pd.read_excel('FEV_Data.xlsx',sheet_name=\"Auta elektryczne\")"
   ]
  },
  {
   "cell_type": "code",
   "execution_count": 17,
   "id": "61aafd90-4598-4264-b795-2e437d9b1775",
   "metadata": {},
   "outputs": [
    {
     "data": {
      "image/png": "[encoded data removed]",
      "text/plain": [
       "<Figure size 900x600 with 1 Axes>"
      ]
     },
     "metadata": {},
     "output_type": "display_data"
    }
   ],
   "source": [
    "plt.figure(figsize=(9, 6))\n",
    "sns.regplot(\n",
    "    x=\"Battery capacity [kWh]\",\n",
    "    y=\"Range (WLTP) [km]\",\n",
    "    data=df,\n",
    "    scatter_kws={\"s\": 60, \"alpha\": 0.7},\n",
    "    line_kws={\"color\": \"red\", \"linewidth\": 2})\n",
    "plt.title(\"Battery Capacity vs. Range (WLTP)\", fontsize=14)\n",
    "plt.xlabel(\"Battery Capacity [kWh]\", fontsize=12)\n",
    "plt.ylabel(\"Range (WLTP) [km]\", fontsize=12)\n",
    "plt.grid(True)\n",
    "plt.tight_layout()\n",
    "plt.show()"
   ]
  },
  {
   "cell_type": "code",
   "execution_count": 18,
   "id": "5e0249c2-88e3-4968-b7d7-9ad3e483e08e",
   "metadata": {},
   "outputs": [],
   "source": [
    "## Task 4: Build an EV recommendation class. The class should allow users to input their\n",
    "## budget, desired range, and battery capacity. The class should then return the top three EVs matching their criteria.\n",
    "import pandas as pd"
   ]
  },
  {
   "cell_type": "code",
   "execution_count": 19,
   "id": "c52b4e26-96d4-4bd7-ae56-c5233d69077c",
   "metadata": {},
   "outputs": [
    {
     "name": "stdout",
     "output_type": "stream",
     "text": [
      "                    Car full name   Make                    Model  \\\n",
      "42  Tesla Model S Long Range Plus  Tesla  Model S Long Range Plus   \n",
      "43      Tesla Model S Performance  Tesla      Model S Performance   \n",
      "44  Tesla Model X Long Range Plus  Tesla  Model X Long Range Plus   \n",
      "\n",
      "    Minimal price (gross) [PLN]  Engine power [KM]  Maximum torque [Nm]  \\\n",
      "42                       368990                525                  755   \n",
      "43                       443990                772                 1140   \n",
      "44                       407990                525                  755   \n",
      "\n",
      "         Type of brakes Drive type  Battery capacity [kWh]  Range (WLTP) [km]  \\\n",
      "42  disc (front + rear)        4WD                   100.0                652   \n",
      "43  disc (front + rear)        4WD                   100.0                639   \n",
      "44  disc (front + rear)        4WD                   100.0                561   \n",
      "\n",
      "    ...  Permissable gross weight [kg]  Maximum load capacity [kg]  \\\n",
      "42  ...                            NaN                         NaN   \n",
      "43  ...                            NaN                         NaN   \n",
      "44  ...                            NaN                         NaN   \n",
      "\n",
      "    Number of seats  Number of doors  Tire size [in]  Maximum speed [kph]  \\\n",
      "42                5                5              19                  250   \n",
      "43                5                5              21                  261   \n",
      "44                7                5              20                  250   \n",
      "\n",
      "    Boot capacity (VDA) [l]  Acceleration 0-100 kph [s]  \\\n",
      "42                    745.0                         3.8   \n",
      "43                    745.0                         2.5   \n",
      "44                    857.0                         4.6   \n",
      "\n",
      "    Maximum DC charging power [kW]  mean - Energy consumption [kWh/100 km]  \n",
      "42                             150                                     NaN  \n",
      "43                             150                                     NaN  \n",
      "44                             150                                     NaN  \n",
      "\n",
      "[3 rows x 25 columns]\n"
     ]
    }
   ],
   "source": [
    "def recommend_evs(budget, min_range, min_battery):\n",
    "    matches = df[\n",
    "        (df[\"Minimal price (gross) [PLN]\"] <= budget) &\n",
    "        (df[\"Range (WLTP) [km]\"] >= min_range) &\n",
    "        (df[\"Battery capacity [kWh]\"] >= min_battery)\n",
    "    ]\n",
    "    top_3 = matches.sort_values(by=\"Range (WLTP) [km]\", ascending=False).head(3)\n",
    "    return top_3\n",
    "\n",
    "top_3 = recommend_evs(budget=600000, min_range=350, min_battery=80)\n",
    "print(top_3)\n"
   ]
  },
  {
   "cell_type": "code",
   "execution_count": 20,
   "id": "c8b9b2ca-ab6e-44d5-9f19-2d9a556b575a",
   "metadata": {},
   "outputs": [],
   "source": [
    "##  Task 5: Inferential Statistics– Hypothesis Testing:\n",
    "import pandas as pd\n",
    "from scipy.stats import ttest_ind"
   ]
  },
  {
   "cell_type": "code",
   "execution_count": 21,
   "id": "c2339888-dbd0-4ffd-bf8c-3132ecefd9d3",
   "metadata": {},
   "outputs": [],
   "source": [
    "df = pd.read_excel(\"FEV_Data.xlsx\", sheet_name=\"Auta elektryczne\")"
   ]
  },
  {
   "cell_type": "code",
   "execution_count": 22,
   "id": "a7cb1395-9e02-4e8d-b961-f3a8005acec3",
   "metadata": {},
   "outputs": [],
   "source": [
    "tesla_power = df[df[\"Make\"] == \"Tesla\"][\"Engine power [KM]\"]\n",
    "audi_power = df[df[\"Make\"] == \"Audi\"][\"Engine power [KM]\"]"
   ]
  },
  {
   "cell_type": "code",
   "execution_count": 23,
   "id": "640426fe-2f93-4316-9e56-3a9a2950b93e",
   "metadata": {},
   "outputs": [
    {
     "name": "stdout",
     "output_type": "stream",
     "text": [
      "T-test Result: 1.794\n",
      "P-value Result: 0.1068\n"
     ]
    }
   ],
   "source": [
    "t_stat, p_test = ttest_ind(tesla_power, audi_power, equal_var=False)\n",
    "print(\"T-test Result:\", round(t_stat,3))\n",
    "print(\"P-value Result:\", round(p_test,4))"
   ]
  },
  {
   "cell_type": "code",
   "execution_count": null,
   "id": "d8095827-469c-4645-b827-5aa3bafc69ee",
   "metadata": {},
   "outputs": [],
   "source": [
    "video link : https://drive.google.com/drive/folders/1dv-1OF_BxePgKmWvkIGZmFCstGwS1i1l?usp=drive_link"
   ]
  },
  {
   "cell_type": "code",
   "execution_count": null,
   "id": "b1782ff2-6fc2-4c3b-b375-d1f78efba9dd",
   "metadata": {},
   "outputs": [],
   "source": []
  },
  {
   "cell_type": "code",
   "execution_count": null,
   "id": "f4da0354-1dfb-4597-baf3-1f719edd142f",
   "metadata": {},
   "outputs": [],
   "source": []
  }
 ],
 "metadata": {
  "kernelspec": {
   "display_name": "Python 3 (ipykernel)",
   "language": "python",
   "name": "python3"
  },
  "language_info": {
   "codemirror_mode": {
    "name": "ipython",
    "version": 3
   },
   "file_extension": ".py",
   "mimetype": "text/x-python",
   "name": "python",
   "nbconvert_exporter": "python",
   "pygments_lexer": "ipython3",
   "version": "3.13.5"
  }
 },
 "nbformat": 4,
 "nbformat_minor": 5
}
